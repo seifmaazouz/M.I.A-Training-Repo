{
  "nbformat": 4,
  "nbformat_minor": 0,
  "metadata": {
    "colab": {
      "provenance": [],
      "gpuType": "T4",
      "authorship_tag": "ABX9TyM4ehBE41hgeJRm+UEaoDQy",
      "include_colab_link": true
    },
    "kernelspec": {
      "name": "python3",
      "display_name": "Python 3"
    },
    "language_info": {
      "name": "python"
    },
    "accelerator": "GPU"
  },
  "cells": [
    {
      "cell_type": "markdown",
      "metadata": {
        "id": "view-in-github",
        "colab_type": "text"
      },
      "source": [
        "<a href=\"https://colab.research.google.com/github/seifmaazouz/M.I.A-Training-Repo/blob/task13/M_I_A_TASK_13.ipynb\" target=\"_parent\"><img src=\"https://colab.research.google.com/assets/colab-badge.svg\" alt=\"Open In Colab\"/></a>"
      ]
    },
    {
      "cell_type": "code",
      "execution_count": null,
      "metadata": {
        "id": "NTDXC5FtZ0Y8"
      },
      "outputs": [],
      "source": [
        "import numpy as np\n",
        "import pandas as pd\n",
        "import matplotlib.pyplot as plt"
      ]
    },
    {
      "cell_type": "markdown",
      "source": [
        "## Setup kaggle connection"
      ],
      "metadata": {
        "id": "M6qmxlITfFve"
      }
    },
    {
      "cell_type": "code",
      "source": [
        "from google.colab import files\n",
        "uploaded= files.upload()\n",
        "for fn in uploaded.keys():\n",
        "  print('User uploaded file \"{name}\" with length {length} bytes'.format(\n",
        "      name=fn, length=len(uploaded[fn])))\n",
        "\n",
        "!mkdir -p ~/.kaggle && mv kaggle.json ~/.kaggle/ && chmod 600 ~/.kaggle/kaggle.json"
      ],
      "metadata": {
        "colab": {
          "base_uri": "https://localhost:8080/",
          "height": 90
        },
        "id": "93PRaXzBbJpE",
        "outputId": "7a3bda95-637c-4e65-e416-4de266019c9c"
      },
      "execution_count": null,
      "outputs": [
        {
          "output_type": "display_data",
          "data": {
            "text/plain": [
              "<IPython.core.display.HTML object>"
            ],
            "text/html": [
              "\n",
              "     <input type=\"file\" id=\"files-f642feb8-4160-4581-97d1-3c0cf47a5f8b\" name=\"files[]\" multiple disabled\n",
              "        style=\"border:none\" />\n",
              "     <output id=\"result-f642feb8-4160-4581-97d1-3c0cf47a5f8b\">\n",
              "      Upload widget is only available when the cell has been executed in the\n",
              "      current browser session. Please rerun this cell to enable.\n",
              "      </output>\n",
              "      <script>// Copyright 2017 Google LLC\n",
              "//\n",
              "// Licensed under the Apache License, Version 2.0 (the \"License\");\n",
              "// you may not use this file except in compliance with the License.\n",
              "// You may obtain a copy of the License at\n",
              "//\n",
              "//      http://www.apache.org/licenses/LICENSE-2.0\n",
              "//\n",
              "// Unless required by applicable law or agreed to in writing, software\n",
              "// distributed under the License is distributed on an \"AS IS\" BASIS,\n",
              "// WITHOUT WARRANTIES OR CONDITIONS OF ANY KIND, either express or implied.\n",
              "// See the License for the specific language governing permissions and\n",
              "// limitations under the License.\n",
              "\n",
              "/**\n",
              " * @fileoverview Helpers for google.colab Python module.\n",
              " */\n",
              "(function(scope) {\n",
              "function span(text, styleAttributes = {}) {\n",
              "  const element = document.createElement('span');\n",
              "  element.textContent = text;\n",
              "  for (const key of Object.keys(styleAttributes)) {\n",
              "    element.style[key] = styleAttributes[key];\n",
              "  }\n",
              "  return element;\n",
              "}\n",
              "\n",
              "// Max number of bytes which will be uploaded at a time.\n",
              "const MAX_PAYLOAD_SIZE = 100 * 1024;\n",
              "\n",
              "function _uploadFiles(inputId, outputId) {\n",
              "  const steps = uploadFilesStep(inputId, outputId);\n",
              "  const outputElement = document.getElementById(outputId);\n",
              "  // Cache steps on the outputElement to make it available for the next call\n",
              "  // to uploadFilesContinue from Python.\n",
              "  outputElement.steps = steps;\n",
              "\n",
              "  return _uploadFilesContinue(outputId);\n",
              "}\n",
              "\n",
              "// This is roughly an async generator (not supported in the browser yet),\n",
              "// where there are multiple asynchronous steps and the Python side is going\n",
              "// to poll for completion of each step.\n",
              "// This uses a Promise to block the python side on completion of each step,\n",
              "// then passes the result of the previous step as the input to the next step.\n",
              "function _uploadFilesContinue(outputId) {\n",
              "  const outputElement = document.getElementById(outputId);\n",
              "  const steps = outputElement.steps;\n",
              "\n",
              "  const next = steps.next(outputElement.lastPromiseValue);\n",
              "  return Promise.resolve(next.value.promise).then((value) => {\n",
              "    // Cache the last promise value to make it available to the next\n",
              "    // step of the generator.\n",
              "    outputElement.lastPromiseValue = value;\n",
              "    return next.value.response;\n",
              "  });\n",
              "}\n",
              "\n",
              "/**\n",
              " * Generator function which is called between each async step of the upload\n",
              " * process.\n",
              " * @param {string} inputId Element ID of the input file picker element.\n",
              " * @param {string} outputId Element ID of the output display.\n",
              " * @return {!Iterable<!Object>} Iterable of next steps.\n",
              " */\n",
              "function* uploadFilesStep(inputId, outputId) {\n",
              "  const inputElement = document.getElementById(inputId);\n",
              "  inputElement.disabled = false;\n",
              "\n",
              "  const outputElement = document.getElementById(outputId);\n",
              "  outputElement.innerHTML = '';\n",
              "\n",
              "  const pickedPromise = new Promise((resolve) => {\n",
              "    inputElement.addEventListener('change', (e) => {\n",
              "      resolve(e.target.files);\n",
              "    });\n",
              "  });\n",
              "\n",
              "  const cancel = document.createElement('button');\n",
              "  inputElement.parentElement.appendChild(cancel);\n",
              "  cancel.textContent = 'Cancel upload';\n",
              "  const cancelPromise = new Promise((resolve) => {\n",
              "    cancel.onclick = () => {\n",
              "      resolve(null);\n",
              "    };\n",
              "  });\n",
              "\n",
              "  // Wait for the user to pick the files.\n",
              "  const files = yield {\n",
              "    promise: Promise.race([pickedPromise, cancelPromise]),\n",
              "    response: {\n",
              "      action: 'starting',\n",
              "    }\n",
              "  };\n",
              "\n",
              "  cancel.remove();\n",
              "\n",
              "  // Disable the input element since further picks are not allowed.\n",
              "  inputElement.disabled = true;\n",
              "\n",
              "  if (!files) {\n",
              "    return {\n",
              "      response: {\n",
              "        action: 'complete',\n",
              "      }\n",
              "    };\n",
              "  }\n",
              "\n",
              "  for (const file of files) {\n",
              "    const li = document.createElement('li');\n",
              "    li.append(span(file.name, {fontWeight: 'bold'}));\n",
              "    li.append(span(\n",
              "        `(${file.type || 'n/a'}) - ${file.size} bytes, ` +\n",
              "        `last modified: ${\n",
              "            file.lastModifiedDate ? file.lastModifiedDate.toLocaleDateString() :\n",
              "                                    'n/a'} - `));\n",
              "    const percent = span('0% done');\n",
              "    li.appendChild(percent);\n",
              "\n",
              "    outputElement.appendChild(li);\n",
              "\n",
              "    const fileDataPromise = new Promise((resolve) => {\n",
              "      const reader = new FileReader();\n",
              "      reader.onload = (e) => {\n",
              "        resolve(e.target.result);\n",
              "      };\n",
              "      reader.readAsArrayBuffer(file);\n",
              "    });\n",
              "    // Wait for the data to be ready.\n",
              "    let fileData = yield {\n",
              "      promise: fileDataPromise,\n",
              "      response: {\n",
              "        action: 'continue',\n",
              "      }\n",
              "    };\n",
              "\n",
              "    // Use a chunked sending to avoid message size limits. See b/62115660.\n",
              "    let position = 0;\n",
              "    do {\n",
              "      const length = Math.min(fileData.byteLength - position, MAX_PAYLOAD_SIZE);\n",
              "      const chunk = new Uint8Array(fileData, position, length);\n",
              "      position += length;\n",
              "\n",
              "      const base64 = btoa(String.fromCharCode.apply(null, chunk));\n",
              "      yield {\n",
              "        response: {\n",
              "          action: 'append',\n",
              "          file: file.name,\n",
              "          data: base64,\n",
              "        },\n",
              "      };\n",
              "\n",
              "      let percentDone = fileData.byteLength === 0 ?\n",
              "          100 :\n",
              "          Math.round((position / fileData.byteLength) * 100);\n",
              "      percent.textContent = `${percentDone}% done`;\n",
              "\n",
              "    } while (position < fileData.byteLength);\n",
              "  }\n",
              "\n",
              "  // All done.\n",
              "  yield {\n",
              "    response: {\n",
              "      action: 'complete',\n",
              "    }\n",
              "  };\n",
              "}\n",
              "\n",
              "scope.google = scope.google || {};\n",
              "scope.google.colab = scope.google.colab || {};\n",
              "scope.google.colab._files = {\n",
              "  _uploadFiles,\n",
              "  _uploadFilesContinue,\n",
              "};\n",
              "})(self);\n",
              "</script> "
            ]
          },
          "metadata": {}
        },
        {
          "output_type": "stream",
          "name": "stdout",
          "text": [
            "Saving kaggle.json to kaggle.json\n",
            "User uploaded file \"kaggle.json\" with length 67 bytes\n"
          ]
        }
      ]
    },
    {
      "cell_type": "code",
      "source": [
        "!kaggle competitions download -c digit-recognizer"
      ],
      "metadata": {
        "colab": {
          "base_uri": "https://localhost:8080/"
        },
        "id": "82RdEsDIbzkM",
        "outputId": "afe429f3-de4c-4bdb-a596-0abf15354747"
      },
      "execution_count": null,
      "outputs": [
        {
          "output_type": "stream",
          "name": "stdout",
          "text": [
            "Downloading digit-recognizer.zip to /content\n",
            " 91% 14.0M/15.3M [00:00<00:00, 66.9MB/s]\n",
            "100% 15.3M/15.3M [00:00<00:00, 65.6MB/s]\n"
          ]
        }
      ]
    },
    {
      "cell_type": "code",
      "source": [
        "from google.colab import drive\n",
        "drive.mount('/content/drive')"
      ],
      "metadata": {
        "colab": {
          "base_uri": "https://localhost:8080/"
        },
        "id": "zz-FhmDYdvST",
        "outputId": "c0ad4d28-50c1-432f-dcdf-74077d99afa3"
      },
      "execution_count": null,
      "outputs": [
        {
          "output_type": "stream",
          "name": "stdout",
          "text": [
            "Mounted at /content/drive\n"
          ]
        }
      ]
    },
    {
      "cell_type": "code",
      "source": [
        "!unzip digit-recognizer.zip -d digit-recognizer"
      ],
      "metadata": {
        "colab": {
          "base_uri": "https://localhost:8080/"
        },
        "id": "QHEoA8WmlLs5",
        "outputId": "191a144e-f2f0-4580-9d7c-46d975001aed"
      },
      "execution_count": null,
      "outputs": [
        {
          "output_type": "stream",
          "name": "stdout",
          "text": [
            "Archive:  digit-recognizer.zip\n",
            "  inflating: digit-recognizer/sample_submission.csv  \n",
            "  inflating: digit-recognizer/test.csv  \n",
            "  inflating: digit-recognizer/train.csv  \n"
          ]
        }
      ]
    },
    {
      "cell_type": "markdown",
      "source": [
        "## Import MNIST Dataset"
      ],
      "metadata": {
        "id": "2sY0eBxTV0qY"
      }
    },
    {
      "cell_type": "code",
      "source": [
        "data= pd.read_csv('/content/digit-recognizer/train.csv')"
      ],
      "metadata": {
        "id": "GIVvO_ffm0ml"
      },
      "execution_count": null,
      "outputs": []
    },
    {
      "cell_type": "code",
      "source": [
        "data.head()"
      ],
      "metadata": {
        "colab": {
          "base_uri": "https://localhost:8080/",
          "height": 255
        },
        "id": "KgEXoepym-_p",
        "outputId": "f41febc6-032b-46f7-c604-30271a15a8e2"
      },
      "execution_count": null,
      "outputs": [
        {
          "output_type": "execute_result",
          "data": {
            "text/plain": [
              "   label  pixel0  pixel1  pixel2  pixel3  pixel4  pixel5  pixel6  pixel7  \\\n",
              "0      1       0       0       0       0       0       0       0       0   \n",
              "1      0       0       0       0       0       0       0       0       0   \n",
              "2      1       0       0       0       0       0       0       0       0   \n",
              "3      4       0       0       0       0       0       0       0       0   \n",
              "4      0       0       0       0       0       0       0       0       0   \n",
              "\n",
              "   pixel8  ...  pixel774  pixel775  pixel776  pixel777  pixel778  pixel779  \\\n",
              "0       0  ...         0         0         0         0         0         0   \n",
              "1       0  ...         0         0         0         0         0         0   \n",
              "2       0  ...         0         0         0         0         0         0   \n",
              "3       0  ...         0         0         0         0         0         0   \n",
              "4       0  ...         0         0         0         0         0         0   \n",
              "\n",
              "   pixel780  pixel781  pixel782  pixel783  \n",
              "0         0         0         0         0  \n",
              "1         0         0         0         0  \n",
              "2         0         0         0         0  \n",
              "3         0         0         0         0  \n",
              "4         0         0         0         0  \n",
              "\n",
              "[5 rows x 785 columns]"
            ],
            "text/html": [
              "\n",
              "  <div id=\"df-9b6d50a2-51e4-4c28-9327-214796538256\" class=\"colab-df-container\">\n",
              "    <div>\n",
              "<style scoped>\n",
              "    .dataframe tbody tr th:only-of-type {\n",
              "        vertical-align: middle;\n",
              "    }\n",
              "\n",
              "    .dataframe tbody tr th {\n",
              "        vertical-align: top;\n",
              "    }\n",
              "\n",
              "    .dataframe thead th {\n",
              "        text-align: right;\n",
              "    }\n",
              "</style>\n",
              "<table border=\"1\" class=\"dataframe\">\n",
              "  <thead>\n",
              "    <tr style=\"text-align: right;\">\n",
              "      <th></th>\n",
              "      <th>label</th>\n",
              "      <th>pixel0</th>\n",
              "      <th>pixel1</th>\n",
              "      <th>pixel2</th>\n",
              "      <th>pixel3</th>\n",
              "      <th>pixel4</th>\n",
              "      <th>pixel5</th>\n",
              "      <th>pixel6</th>\n",
              "      <th>pixel7</th>\n",
              "      <th>pixel8</th>\n",
              "      <th>...</th>\n",
              "      <th>pixel774</th>\n",
              "      <th>pixel775</th>\n",
              "      <th>pixel776</th>\n",
              "      <th>pixel777</th>\n",
              "      <th>pixel778</th>\n",
              "      <th>pixel779</th>\n",
              "      <th>pixel780</th>\n",
              "      <th>pixel781</th>\n",
              "      <th>pixel782</th>\n",
              "      <th>pixel783</th>\n",
              "    </tr>\n",
              "  </thead>\n",
              "  <tbody>\n",
              "    <tr>\n",
              "      <th>0</th>\n",
              "      <td>1</td>\n",
              "      <td>0</td>\n",
              "      <td>0</td>\n",
              "      <td>0</td>\n",
              "      <td>0</td>\n",
              "      <td>0</td>\n",
              "      <td>0</td>\n",
              "      <td>0</td>\n",
              "      <td>0</td>\n",
              "      <td>0</td>\n",
              "      <td>...</td>\n",
              "      <td>0</td>\n",
              "      <td>0</td>\n",
              "      <td>0</td>\n",
              "      <td>0</td>\n",
              "      <td>0</td>\n",
              "      <td>0</td>\n",
              "      <td>0</td>\n",
              "      <td>0</td>\n",
              "      <td>0</td>\n",
              "      <td>0</td>\n",
              "    </tr>\n",
              "    <tr>\n",
              "      <th>1</th>\n",
              "      <td>0</td>\n",
              "      <td>0</td>\n",
              "      <td>0</td>\n",
              "      <td>0</td>\n",
              "      <td>0</td>\n",
              "      <td>0</td>\n",
              "      <td>0</td>\n",
              "      <td>0</td>\n",
              "      <td>0</td>\n",
              "      <td>0</td>\n",
              "      <td>...</td>\n",
              "      <td>0</td>\n",
              "      <td>0</td>\n",
              "      <td>0</td>\n",
              "      <td>0</td>\n",
              "      <td>0</td>\n",
              "      <td>0</td>\n",
              "      <td>0</td>\n",
              "      <td>0</td>\n",
              "      <td>0</td>\n",
              "      <td>0</td>\n",
              "    </tr>\n",
              "    <tr>\n",
              "      <th>2</th>\n",
              "      <td>1</td>\n",
              "      <td>0</td>\n",
              "      <td>0</td>\n",
              "      <td>0</td>\n",
              "      <td>0</td>\n",
              "      <td>0</td>\n",
              "      <td>0</td>\n",
              "      <td>0</td>\n",
              "      <td>0</td>\n",
              "      <td>0</td>\n",
              "      <td>...</td>\n",
              "      <td>0</td>\n",
              "      <td>0</td>\n",
              "      <td>0</td>\n",
              "      <td>0</td>\n",
              "      <td>0</td>\n",
              "      <td>0</td>\n",
              "      <td>0</td>\n",
              "      <td>0</td>\n",
              "      <td>0</td>\n",
              "      <td>0</td>\n",
              "    </tr>\n",
              "    <tr>\n",
              "      <th>3</th>\n",
              "      <td>4</td>\n",
              "      <td>0</td>\n",
              "      <td>0</td>\n",
              "      <td>0</td>\n",
              "      <td>0</td>\n",
              "      <td>0</td>\n",
              "      <td>0</td>\n",
              "      <td>0</td>\n",
              "      <td>0</td>\n",
              "      <td>0</td>\n",
              "      <td>...</td>\n",
              "      <td>0</td>\n",
              "      <td>0</td>\n",
              "      <td>0</td>\n",
              "      <td>0</td>\n",
              "      <td>0</td>\n",
              "      <td>0</td>\n",
              "      <td>0</td>\n",
              "      <td>0</td>\n",
              "      <td>0</td>\n",
              "      <td>0</td>\n",
              "    </tr>\n",
              "    <tr>\n",
              "      <th>4</th>\n",
              "      <td>0</td>\n",
              "      <td>0</td>\n",
              "      <td>0</td>\n",
              "      <td>0</td>\n",
              "      <td>0</td>\n",
              "      <td>0</td>\n",
              "      <td>0</td>\n",
              "      <td>0</td>\n",
              "      <td>0</td>\n",
              "      <td>0</td>\n",
              "      <td>...</td>\n",
              "      <td>0</td>\n",
              "      <td>0</td>\n",
              "      <td>0</td>\n",
              "      <td>0</td>\n",
              "      <td>0</td>\n",
              "      <td>0</td>\n",
              "      <td>0</td>\n",
              "      <td>0</td>\n",
              "      <td>0</td>\n",
              "      <td>0</td>\n",
              "    </tr>\n",
              "  </tbody>\n",
              "</table>\n",
              "<p>5 rows × 785 columns</p>\n",
              "</div>\n",
              "    <div class=\"colab-df-buttons\">\n",
              "\n",
              "  <div class=\"colab-df-container\">\n",
              "    <button class=\"colab-df-convert\" onclick=\"convertToInteractive('df-9b6d50a2-51e4-4c28-9327-214796538256')\"\n",
              "            title=\"Convert this dataframe to an interactive table.\"\n",
              "            style=\"display:none;\">\n",
              "\n",
              "  <svg xmlns=\"http://www.w3.org/2000/svg\" height=\"24px\" viewBox=\"0 -960 960 960\">\n",
              "    <path d=\"M120-120v-720h720v720H120Zm60-500h600v-160H180v160Zm220 220h160v-160H400v160Zm0 220h160v-160H400v160ZM180-400h160v-160H180v160Zm440 0h160v-160H620v160ZM180-180h160v-160H180v160Zm440 0h160v-160H620v160Z\"/>\n",
              "  </svg>\n",
              "    </button>\n",
              "\n",
              "  <style>\n",
              "    .colab-df-container {\n",
              "      display:flex;\n",
              "      gap: 12px;\n",
              "    }\n",
              "\n",
              "    .colab-df-convert {\n",
              "      background-color: #E8F0FE;\n",
              "      border: none;\n",
              "      border-radius: 50%;\n",
              "      cursor: pointer;\n",
              "      display: none;\n",
              "      fill: #1967D2;\n",
              "      height: 32px;\n",
              "      padding: 0 0 0 0;\n",
              "      width: 32px;\n",
              "    }\n",
              "\n",
              "    .colab-df-convert:hover {\n",
              "      background-color: #E2EBFA;\n",
              "      box-shadow: 0px 1px 2px rgba(60, 64, 67, 0.3), 0px 1px 3px 1px rgba(60, 64, 67, 0.15);\n",
              "      fill: #174EA6;\n",
              "    }\n",
              "\n",
              "    .colab-df-buttons div {\n",
              "      margin-bottom: 4px;\n",
              "    }\n",
              "\n",
              "    [theme=dark] .colab-df-convert {\n",
              "      background-color: #3B4455;\n",
              "      fill: #D2E3FC;\n",
              "    }\n",
              "\n",
              "    [theme=dark] .colab-df-convert:hover {\n",
              "      background-color: #434B5C;\n",
              "      box-shadow: 0px 1px 3px 1px rgba(0, 0, 0, 0.15);\n",
              "      filter: drop-shadow(0px 1px 2px rgba(0, 0, 0, 0.3));\n",
              "      fill: #FFFFFF;\n",
              "    }\n",
              "  </style>\n",
              "\n",
              "    <script>\n",
              "      const buttonEl =\n",
              "        document.querySelector('#df-9b6d50a2-51e4-4c28-9327-214796538256 button.colab-df-convert');\n",
              "      buttonEl.style.display =\n",
              "        google.colab.kernel.accessAllowed ? 'block' : 'none';\n",
              "\n",
              "      async function convertToInteractive(key) {\n",
              "        const element = document.querySelector('#df-9b6d50a2-51e4-4c28-9327-214796538256');\n",
              "        const dataTable =\n",
              "          await google.colab.kernel.invokeFunction('convertToInteractive',\n",
              "                                                    [key], {});\n",
              "        if (!dataTable) return;\n",
              "\n",
              "        const docLinkHtml = 'Like what you see? Visit the ' +\n",
              "          '<a target=\"_blank\" href=https://colab.research.google.com/notebooks/data_table.ipynb>data table notebook</a>'\n",
              "          + ' to learn more about interactive tables.';\n",
              "        element.innerHTML = '';\n",
              "        dataTable['output_type'] = 'display_data';\n",
              "        await google.colab.output.renderOutput(dataTable, element);\n",
              "        const docLink = document.createElement('div');\n",
              "        docLink.innerHTML = docLinkHtml;\n",
              "        element.appendChild(docLink);\n",
              "      }\n",
              "    </script>\n",
              "  </div>\n",
              "\n",
              "\n",
              "<div id=\"df-e8971b5b-e9e5-4c2e-8261-68a515480f75\">\n",
              "  <button class=\"colab-df-quickchart\" onclick=\"quickchart('df-e8971b5b-e9e5-4c2e-8261-68a515480f75')\"\n",
              "            title=\"Suggest charts\"\n",
              "            style=\"display:none;\">\n",
              "\n",
              "<svg xmlns=\"http://www.w3.org/2000/svg\" height=\"24px\"viewBox=\"0 0 24 24\"\n",
              "     width=\"24px\">\n",
              "    <g>\n",
              "        <path d=\"M19 3H5c-1.1 0-2 .9-2 2v14c0 1.1.9 2 2 2h14c1.1 0 2-.9 2-2V5c0-1.1-.9-2-2-2zM9 17H7v-7h2v7zm4 0h-2V7h2v10zm4 0h-2v-4h2v4z\"/>\n",
              "    </g>\n",
              "</svg>\n",
              "  </button>\n",
              "\n",
              "<style>\n",
              "  .colab-df-quickchart {\n",
              "      --bg-color: #E8F0FE;\n",
              "      --fill-color: #1967D2;\n",
              "      --hover-bg-color: #E2EBFA;\n",
              "      --hover-fill-color: #174EA6;\n",
              "      --disabled-fill-color: #AAA;\n",
              "      --disabled-bg-color: #DDD;\n",
              "  }\n",
              "\n",
              "  [theme=dark] .colab-df-quickchart {\n",
              "      --bg-color: #3B4455;\n",
              "      --fill-color: #D2E3FC;\n",
              "      --hover-bg-color: #434B5C;\n",
              "      --hover-fill-color: #FFFFFF;\n",
              "      --disabled-bg-color: #3B4455;\n",
              "      --disabled-fill-color: #666;\n",
              "  }\n",
              "\n",
              "  .colab-df-quickchart {\n",
              "    background-color: var(--bg-color);\n",
              "    border: none;\n",
              "    border-radius: 50%;\n",
              "    cursor: pointer;\n",
              "    display: none;\n",
              "    fill: var(--fill-color);\n",
              "    height: 32px;\n",
              "    padding: 0;\n",
              "    width: 32px;\n",
              "  }\n",
              "\n",
              "  .colab-df-quickchart:hover {\n",
              "    background-color: var(--hover-bg-color);\n",
              "    box-shadow: 0 1px 2px rgba(60, 64, 67, 0.3), 0 1px 3px 1px rgba(60, 64, 67, 0.15);\n",
              "    fill: var(--button-hover-fill-color);\n",
              "  }\n",
              "\n",
              "  .colab-df-quickchart-complete:disabled,\n",
              "  .colab-df-quickchart-complete:disabled:hover {\n",
              "    background-color: var(--disabled-bg-color);\n",
              "    fill: var(--disabled-fill-color);\n",
              "    box-shadow: none;\n",
              "  }\n",
              "\n",
              "  .colab-df-spinner {\n",
              "    border: 2px solid var(--fill-color);\n",
              "    border-color: transparent;\n",
              "    border-bottom-color: var(--fill-color);\n",
              "    animation:\n",
              "      spin 1s steps(1) infinite;\n",
              "  }\n",
              "\n",
              "  @keyframes spin {\n",
              "    0% {\n",
              "      border-color: transparent;\n",
              "      border-bottom-color: var(--fill-color);\n",
              "      border-left-color: var(--fill-color);\n",
              "    }\n",
              "    20% {\n",
              "      border-color: transparent;\n",
              "      border-left-color: var(--fill-color);\n",
              "      border-top-color: var(--fill-color);\n",
              "    }\n",
              "    30% {\n",
              "      border-color: transparent;\n",
              "      border-left-color: var(--fill-color);\n",
              "      border-top-color: var(--fill-color);\n",
              "      border-right-color: var(--fill-color);\n",
              "    }\n",
              "    40% {\n",
              "      border-color: transparent;\n",
              "      border-right-color: var(--fill-color);\n",
              "      border-top-color: var(--fill-color);\n",
              "    }\n",
              "    60% {\n",
              "      border-color: transparent;\n",
              "      border-right-color: var(--fill-color);\n",
              "    }\n",
              "    80% {\n",
              "      border-color: transparent;\n",
              "      border-right-color: var(--fill-color);\n",
              "      border-bottom-color: var(--fill-color);\n",
              "    }\n",
              "    90% {\n",
              "      border-color: transparent;\n",
              "      border-bottom-color: var(--fill-color);\n",
              "    }\n",
              "  }\n",
              "</style>\n",
              "\n",
              "  <script>\n",
              "    async function quickchart(key) {\n",
              "      const quickchartButtonEl =\n",
              "        document.querySelector('#' + key + ' button');\n",
              "      quickchartButtonEl.disabled = true;  // To prevent multiple clicks.\n",
              "      quickchartButtonEl.classList.add('colab-df-spinner');\n",
              "      try {\n",
              "        const charts = await google.colab.kernel.invokeFunction(\n",
              "            'suggestCharts', [key], {});\n",
              "      } catch (error) {\n",
              "        console.error('Error during call to suggestCharts:', error);\n",
              "      }\n",
              "      quickchartButtonEl.classList.remove('colab-df-spinner');\n",
              "      quickchartButtonEl.classList.add('colab-df-quickchart-complete');\n",
              "    }\n",
              "    (() => {\n",
              "      let quickchartButtonEl =\n",
              "        document.querySelector('#df-e8971b5b-e9e5-4c2e-8261-68a515480f75 button');\n",
              "      quickchartButtonEl.style.display =\n",
              "        google.colab.kernel.accessAllowed ? 'block' : 'none';\n",
              "    })();\n",
              "  </script>\n",
              "</div>\n",
              "\n",
              "    </div>\n",
              "  </div>\n"
            ],
            "application/vnd.google.colaboratory.intrinsic+json": {
              "type": "dataframe",
              "variable_name": "data"
            }
          },
          "metadata": {},
          "execution_count": 197
        }
      ]
    },
    {
      "cell_type": "code",
      "source": [
        "data = np.array(data)\n",
        "m, n = data.shape\n",
        "print(\"no of examples: \", m)\n",
        "print(\"no of features: \", n-1)\n",
        "np.random.shuffle(data)"
      ],
      "metadata": {
        "colab": {
          "base_uri": "https://localhost:8080/"
        },
        "id": "Du3evz2Nm_t1",
        "outputId": "edf209c5-8070-4f0c-adde-98d93d2eff56"
      },
      "execution_count": null,
      "outputs": [
        {
          "output_type": "stream",
          "name": "stdout",
          "text": [
            "no of examples:  42000\n",
            "no of features:  784\n"
          ]
        }
      ]
    },
    {
      "cell_type": "code",
      "source": [
        "data_test = data[0:1000].T # transpose so now columns are examples and rows are features\n",
        "Y_test = data_test[0] # first row is label\n",
        "X_test = data_test[1:n] # rest of rows are features (pixels)\n",
        "\n",
        "data_train = data[1000:m].T\n",
        "Y_train = data_train[0]\n",
        "X_train = data_train[1:n]"
      ],
      "metadata": {
        "id": "NnXBqAzPnkBw"
      },
      "execution_count": null,
      "outputs": []
    },
    {
      "cell_type": "code",
      "source": [
        "print(\"X_train shape: \", X_train.shape)\n",
        "print(\"Y_train shape: \", Y_train.shape)\n",
        "print(\"X_test shape: \", X_test.shape)\n",
        "print(\"Y_test shape: \", Y_test.shape)"
      ],
      "metadata": {
        "colab": {
          "base_uri": "https://localhost:8080/"
        },
        "id": "Rbh9zz_SYbcY",
        "outputId": "51a68eee-3e70-4d51-c8b9-1df704b037c9"
      },
      "execution_count": null,
      "outputs": [
        {
          "output_type": "stream",
          "name": "stdout",
          "text": [
            "X_train shape:  (784, 41000)\n",
            "Y_train shape:  (41000,)\n",
            "X_test shape:  (784, 1000)\n",
            "Y_test shape:  (1000,)\n"
          ]
        }
      ]
    },
    {
      "cell_type": "code",
      "source": [
        "Y_train # array of all labels"
      ],
      "metadata": {
        "colab": {
          "base_uri": "https://localhost:8080/"
        },
        "id": "3UeWtsB1nG5F",
        "outputId": "0d409cf4-a91b-4d92-ebd1-560255201317"
      },
      "execution_count": null,
      "outputs": [
        {
          "output_type": "execute_result",
          "data": {
            "text/plain": [
              "array([7, 0, 0, ..., 0, 6, 5])"
            ]
          },
          "metadata": {},
          "execution_count": 201
        }
      ]
    },
    {
      "cell_type": "code",
      "source": [
        "X_train.shape"
      ],
      "metadata": {
        "colab": {
          "base_uri": "https://localhost:8080/"
        },
        "id": "Yuydg1HfnIBr",
        "outputId": "03c6232a-c892-4c47-f34b-03973449d7fe"
      },
      "execution_count": null,
      "outputs": [
        {
          "output_type": "execute_result",
          "data": {
            "text/plain": [
              "(784, 41000)"
            ]
          },
          "metadata": {},
          "execution_count": 202
        }
      ]
    },
    {
      "cell_type": "code",
      "source": [
        "# normalize data\n",
        "X_train = X_train / 255.0\n",
        "X_test = X_test / 255.0"
      ],
      "metadata": {
        "id": "zuBTcK8u28mR"
      },
      "execution_count": null,
      "outputs": []
    },
    {
      "cell_type": "markdown",
      "source": [
        "# Creating NN from scratch"
      ],
      "metadata": {
        "id": "WkMDfpsyzjZo"
      }
    },
    {
      "cell_type": "code",
      "source": [
        "def init_params():\n",
        "  # Initialize weights with small random values\n",
        "  W1 = np.random.randn(10, 784) * 0.01\n",
        "  b1 = np.zeros((10, 1))  # biases initialized to zero\n",
        "  W2 = np.random.randn(10, 10) * 0.01\n",
        "  b2 = np.zeros((10, 1))  # biases initialized to zero\n",
        "  return W1, b1, W2, b2"
      ],
      "metadata": {
        "id": "ii8azrbBolBZ"
      },
      "execution_count": null,
      "outputs": []
    },
    {
      "cell_type": "code",
      "source": [
        "def ReLU(Z):\n",
        "  return np.maximum(0, Z)\n",
        "\n",
        "def softmax(Z):\n",
        "    exp_Z = np.exp(Z - np.max(Z, axis=0, keepdims=True))  # subtract max for numerical stability\n",
        "    return exp_Z / np.sum(exp_Z, axis=0, keepdims=True)\n",
        "\n",
        "def forward_prop(W1, b1, W2, b2, X):\n",
        "  Z1 = W1.dot(X) + b1[:, :X.shape[1]] # first layer\n",
        "  A1 = ReLU(Z1) # activation function\n",
        "  Z2 = W2.dot(A1) + b2[:, :X.shape[1]] # hidden layer\n",
        "  A2 = softmax(Z2)\n",
        "  return Z1, A1, Z2, A2"
      ],
      "metadata": {
        "id": "z7IZkmm1ptdM"
      },
      "execution_count": null,
      "outputs": []
    },
    {
      "cell_type": "code",
      "source": [
        "def one_hot(Y):\n",
        "  one_hot_Y = np.zeros((Y.size, Y.max() + 1))\n",
        "  one_hot_Y[np.arange(Y.size), Y] = 1\n",
        "  one_hot_Y = one_hot_Y.T\n",
        "  return one_hot_Y\n",
        "\n",
        "def deriv_ReLU(Z):\n",
        "  return Z > 0\n",
        "\n",
        "def back_prop(Z1, A1, Z2, A2, W2, X, Y):\n",
        "  m = Y.size\n",
        "  one_hot_Y = one_hot(Y)\n",
        "  dZ2 = A2 - one_hot_Y\n",
        "  dW2 = 1 / m * dZ2.dot(A1.T)\n",
        "  db2 = 1 / m * np.sum(dZ2, 0)\n",
        "  dZ1 = W2.T.dot(dZ2) * deriv_ReLU(Z1)\n",
        "  dW1 = 1 / m * dZ1.dot(X.T)\n",
        "  db1 = 1 / m * np.sum(dZ1, 0)\n",
        "  return dW1, db1, dW2, db2"
      ],
      "metadata": {
        "id": "M6d7-xI1rbCE"
      },
      "execution_count": null,
      "outputs": []
    },
    {
      "cell_type": "code",
      "source": [
        "def update_params(W1, b1, W2, b2, dW1, db1, dW2, db2, alpha):\n",
        "  W1 = W1 - alpha * dW1\n",
        "  b1 = b1 - alpha * db1\n",
        "  W2 = W2 - alpha * dW2\n",
        "  b2 = b2 - alpha * db2\n",
        "  return W1, b1, W2, b2"
      ],
      "metadata": {
        "id": "T_mKD5BEucNw"
      },
      "execution_count": null,
      "outputs": []
    },
    {
      "cell_type": "code",
      "source": [
        "def get_predictions(A2):\n",
        "  return np.argmax(A2, 0)\n",
        "\n",
        "def get_accuracy(predictions, Y):\n",
        "  print(predictions, Y)\n",
        "  return np.sum(predictions == Y) / Y.size\n",
        "\n",
        "def cross_entropy_loss(A2, Y):\n",
        "    m = Y.size  # number of examples\n",
        "    Y = one_hot(Y)\n",
        "    return -np.sum(Y * np.log(A2 + 1e-8)) / m  # adding epsilon for stability\n",
        "\n",
        "def gradient_descent(X, Y, alpha, iterations): # alpha: learning rate\n",
        "  W1, b1, W2, b2 = init_params()\n",
        "  for i in range(iterations):\n",
        "    Z1, A1, Z2, A2 = forward_prop(W1, b1, W2, b2, X)\n",
        "    dW1, db1, dW2, db2 = back_prop(Z1, A1, Z2, A2, W2, X, Y)\n",
        "    W1, b1, W2, b2 = update_params(W1, b1, W2, b2, dW1, db1, dW2, db2, alpha)\n",
        "    if i % 10 == 0:\n",
        "      predictions = np.argmax(A2, axis=0)\n",
        "      acc = get_accuracy(predictions, Y)\n",
        "      loss = cross_entropy_loss(A2, Y)\n",
        "      print(f\"Iteration: {i}, Accuracy: {acc}, Loss: {loss}\")\n",
        "  return W1, b1, W2, b2"
      ],
      "metadata": {
        "id": "u3H24PWUumvi"
      },
      "execution_count": null,
      "outputs": []
    },
    {
      "cell_type": "markdown",
      "source": [
        "# Train NN"
      ],
      "metadata": {
        "id": "pwHkx_Xm1qp_"
      }
    },
    {
      "cell_type": "code",
      "source": [
        "W1, b1, W2, b2 = gradient_descent(X_train, Y_train, 0.1, 500)"
      ],
      "metadata": {
        "colab": {
          "base_uri": "https://localhost:8080/"
        },
        "id": "PJ-GiQREvTl8",
        "outputId": "35051b64-6d67-4acd-b9bc-ee6aa2829455"
      },
      "execution_count": null,
      "outputs": [
        {
          "output_type": "stream",
          "name": "stdout",
          "text": [
            "[8 6 4 ... 1 4 8] [7 0 0 ... 0 6 5]\n",
            "Iteration: 0, Accuracy: 0.08434146341463415, Loss: 2.302333848450672\n",
            "[8 9 4 ... 1 4 8] [7 0 0 ... 0 6 5]\n",
            "Iteration: 10, Accuracy: 0.15136585365853658, Loss: 2.301492908173054\n",
            "[9 9 4 ... 1 4 8] [7 0 0 ... 0 6 5]\n",
            "Iteration: 20, Accuracy: 0.2549512195121951, Loss: 2.2997622595876246\n",
            "[9 9 4 ... 3 6 8] [7 0 0 ... 0 6 5]\n",
            "Iteration: 30, Accuracy: 0.3297560975609756, Loss: 2.2959571658738267\n",
            "[9 9 8 ... 3 6 8] [7 0 0 ... 0 6 5]\n",
            "Iteration: 40, Accuracy: 0.36678048780487804, Loss: 2.287512121882419\n",
            "[9 0 8 ... 3 6 8] [7 0 0 ... 0 6 5]\n",
            "Iteration: 50, Accuracy: 0.3801219512195122, Loss: 2.2688311695141543\n",
            "[9 0 8 ... 3 6 8] [7 0 0 ... 0 6 5]\n",
            "Iteration: 60, Accuracy: 0.4072682926829268, Loss: 2.2286176204051915\n",
            "[9 0 8 ... 3 6 8] [7 0 0 ... 0 6 5]\n",
            "Iteration: 70, Accuracy: 0.4509268292682927, Loss: 2.148043293682952\n",
            "[9 0 0 ... 3 6 8] [7 0 0 ... 0 6 5]\n",
            "Iteration: 80, Accuracy: 0.5074634146341463, Loss: 2.0068147594048993\n",
            "[7 0 0 ... 3 6 8] [7 0 0 ... 0 6 5]\n",
            "Iteration: 90, Accuracy: 0.5615121951219513, Loss: 1.8044606582518659\n",
            "[7 0 0 ... 0 6 8] [7 0 0 ... 0 6 5]\n",
            "Iteration: 100, Accuracy: 0.6386341463414634, Loss: 1.580200288145074\n",
            "[7 0 0 ... 0 6 6] [7 0 0 ... 0 6 5]\n",
            "Iteration: 110, Accuracy: 0.6770243902439025, Loss: 1.3772491328384115\n",
            "[7 0 0 ... 0 6 6] [7 0 0 ... 0 6 5]\n",
            "Iteration: 120, Accuracy: 0.6996829268292682, Loss: 1.210287400884354\n",
            "[7 0 0 ... 0 6 6] [7 0 0 ... 0 6 5]\n",
            "Iteration: 130, Accuracy: 0.7246585365853658, Loss: 1.0784964933130783\n",
            "[7 0 0 ... 0 6 6] [7 0 0 ... 0 6 5]\n",
            "Iteration: 140, Accuracy: 0.7464878048780488, Loss: 0.9753511196256799\n",
            "[7 0 5 ... 0 6 5] [7 0 0 ... 0 6 5]\n",
            "Iteration: 150, Accuracy: 0.7638780487804878, Loss: 0.8940176117048574\n",
            "[7 0 5 ... 0 6 5] [7 0 0 ... 0 6 5]\n",
            "Iteration: 160, Accuracy: 0.7785853658536586, Loss: 0.8288961564939038\n",
            "[7 0 5 ... 0 6 5] [7 0 0 ... 0 6 5]\n",
            "Iteration: 170, Accuracy: 0.7908780487804878, Loss: 0.7758065138056514\n",
            "[7 0 5 ... 0 6 5] [7 0 0 ... 0 6 5]\n",
            "Iteration: 180, Accuracy: 0.8014634146341464, Loss: 0.731760242276344\n",
            "[7 0 5 ... 0 6 5] [7 0 0 ... 0 6 5]\n",
            "Iteration: 190, Accuracy: 0.8097560975609757, Loss: 0.6946475997837569\n",
            "[7 0 5 ... 0 6 5] [7 0 0 ... 0 6 5]\n",
            "Iteration: 200, Accuracy: 0.8181219512195121, Loss: 0.6629367328524598\n",
            "[7 0 5 ... 0 6 5] [7 0 0 ... 0 6 5]\n",
            "Iteration: 210, Accuracy: 0.8254634146341463, Loss: 0.63550211753204\n",
            "[7 0 5 ... 0 6 5] [7 0 0 ... 0 6 5]\n",
            "Iteration: 220, Accuracy: 0.832170731707317, Loss: 0.6115021645231334\n",
            "[7 0 5 ... 0 6 5] [7 0 0 ... 0 6 5]\n",
            "Iteration: 230, Accuracy: 0.8374634146341463, Loss: 0.5902880744577012\n",
            "[7 0 5 ... 0 6 5] [7 0 0 ... 0 6 5]\n",
            "Iteration: 240, Accuracy: 0.8427317073170731, Loss: 0.5713701882310673\n",
            "[7 0 5 ... 0 6 5] [7 0 0 ... 0 6 5]\n",
            "Iteration: 250, Accuracy: 0.8477317073170731, Loss: 0.5543850930624024\n",
            "[7 0 0 ... 0 6 5] [7 0 0 ... 0 6 5]\n",
            "Iteration: 260, Accuracy: 0.8519268292682927, Loss: 0.5390488676471077\n",
            "[7 0 0 ... 0 6 5] [7 0 0 ... 0 6 5]\n",
            "Iteration: 270, Accuracy: 0.8561951219512195, Loss: 0.5251408707534415\n",
            "[7 0 0 ... 0 6 5] [7 0 0 ... 0 6 5]\n",
            "Iteration: 280, Accuracy: 0.859390243902439, Loss: 0.5124913686886609\n",
            "[7 0 0 ... 0 6 5] [7 0 0 ... 0 6 5]\n",
            "Iteration: 290, Accuracy: 0.8626829268292683, Loss: 0.500962426454191\n",
            "[7 0 0 ... 0 6 5] [7 0 0 ... 0 6 5]\n",
            "Iteration: 300, Accuracy: 0.8655121951219512, Loss: 0.4904343634249409\n",
            "[7 0 0 ... 0 6 5] [7 0 0 ... 0 6 5]\n",
            "Iteration: 310, Accuracy: 0.8681951219512195, Loss: 0.4808129719015781\n",
            "[7 0 0 ... 0 6 5] [7 0 0 ... 0 6 5]\n",
            "Iteration: 320, Accuracy: 0.8704634146341463, Loss: 0.4720075701434313\n",
            "[7 0 0 ... 0 6 5] [7 0 0 ... 0 6 5]\n",
            "Iteration: 330, Accuracy: 0.8717560975609756, Loss: 0.46393402848716175\n",
            "[7 0 0 ... 0 6 5] [7 0 0 ... 0 6 5]\n",
            "Iteration: 340, Accuracy: 0.8732926829268293, Loss: 0.4565195056611028\n",
            "[7 0 0 ... 0 6 5] [7 0 0 ... 0 6 5]\n",
            "Iteration: 350, Accuracy: 0.8745609756097561, Loss: 0.4497011078336489\n",
            "[7 0 0 ... 0 6 5] [7 0 0 ... 0 6 5]\n",
            "Iteration: 360, Accuracy: 0.8764146341463415, Loss: 0.44341421129489283\n",
            "[7 0 0 ... 0 6 5] [7 0 0 ... 0 6 5]\n",
            "Iteration: 370, Accuracy: 0.8781951219512195, Loss: 0.43760352519971313\n",
            "[7 0 0 ... 0 6 5] [7 0 0 ... 0 6 5]\n",
            "Iteration: 380, Accuracy: 0.8797317073170732, Loss: 0.4322201529647763\n",
            "[7 0 0 ... 0 6 5] [7 0 0 ... 0 6 5]\n",
            "Iteration: 390, Accuracy: 0.8810975609756098, Loss: 0.42721601253119756\n",
            "[7 0 0 ... 0 6 5] [7 0 0 ... 0 6 5]\n",
            "Iteration: 400, Accuracy: 0.882219512195122, Loss: 0.42255299152954606\n",
            "[7 0 0 ... 0 6 5] [7 0 0 ... 0 6 5]\n",
            "Iteration: 410, Accuracy: 0.8832439024390244, Loss: 0.4181958801912488\n",
            "[7 0 0 ... 0 6 5] [7 0 0 ... 0 6 5]\n",
            "Iteration: 420, Accuracy: 0.8842682926829268, Loss: 0.41411514000690003\n",
            "[7 0 0 ... 0 6 5] [7 0 0 ... 0 6 5]\n",
            "Iteration: 430, Accuracy: 0.8850731707317073, Loss: 0.4102834766814631\n",
            "[7 0 0 ... 0 6 5] [7 0 0 ... 0 6 5]\n",
            "Iteration: 440, Accuracy: 0.8859024390243903, Loss: 0.40667556053811404\n",
            "[7 0 0 ... 0 6 5] [7 0 0 ... 0 6 5]\n",
            "Iteration: 450, Accuracy: 0.8865609756097561, Loss: 0.40326967734621755\n",
            "[7 0 0 ... 0 6 5] [7 0 0 ... 0 6 5]\n",
            "Iteration: 460, Accuracy: 0.8876829268292683, Loss: 0.40004431788537936\n",
            "[7 0 0 ... 0 6 5] [7 0 0 ... 0 6 5]\n",
            "Iteration: 470, Accuracy: 0.8884146341463415, Loss: 0.39698433780188297\n",
            "[7 0 0 ... 0 6 5] [7 0 0 ... 0 6 5]\n",
            "Iteration: 480, Accuracy: 0.8891463414634146, Loss: 0.39407731368391125\n",
            "[7 0 0 ... 0 6 5] [7 0 0 ... 0 6 5]\n",
            "Iteration: 490, Accuracy: 0.8900731707317073, Loss: 0.39130919579424456\n"
          ]
        }
      ]
    },
    {
      "cell_type": "markdown",
      "source": [
        "# Predict Data"
      ],
      "metadata": {
        "id": "oXjNawWWwx7q"
      }
    },
    {
      "cell_type": "code",
      "source": [
        "def make_predictions(X, W1, b1, W2, b2):\n",
        "  _, _, _, A2 = forward_prop(W1, b1, W2, b2, X)\n",
        "  predictions = get_predictions(A2)\n",
        "  return predictions\n",
        "\n",
        "def test_prediction(index, W1, b1, W2, b2):\n",
        "  current_image = X_train[:, index, None]\n",
        "  prediction = make_predictions(X_train[:, index, None], W1, b1, W2, b2)\n",
        "  label = Y_train[index]\n",
        "  print(\"Prediction: \", prediction[0])\n",
        "  print(\"Label: \", label)\n",
        "\n",
        "  current_image = current_image.reshape((28, 28)) * 255\n",
        "  plt.gray()\n",
        "  plt.imshow(current_image, interpolation='nearest')\n",
        "  plt.show()"
      ],
      "metadata": {
        "id": "22odHmRXwxpz"
      },
      "execution_count": null,
      "outputs": []
    },
    {
      "cell_type": "code",
      "source": [
        "test_prediction(812, W1, b1, W2, b2) # choose index between 0-4099 (41000 examples)"
      ],
      "metadata": {
        "colab": {
          "base_uri": "https://localhost:8080/",
          "height": 465
        },
        "id": "dnz-rYZMxISj",
        "outputId": "8c6d5193-353e-47dc-ec19-ab81b52182a3"
      },
      "execution_count": null,
      "outputs": [
        {
          "output_type": "stream",
          "name": "stdout",
          "text": [
            "Prediction:  0\n",
            "Label:  0\n"
          ]
        },
        {
          "output_type": "display_data",
          "data": {
            "text/plain": [
              "<Figure size 640x480 with 1 Axes>"
            ],
            "image/png": "[encoded data removed]"
          },
          "metadata": {}
        }
      ]
    },
    {
      "cell_type": "markdown",
      "source": [
        "# Check test data accuracy"
      ],
      "metadata": {
        "id": "7wqqn1Pq1f9K"
      }
    },
    {
      "cell_type": "code",
      "source": [
        "X_test = X_test.reshape((784, X_test.shape[1]))  # Flatten and transpose\n",
        "test_predictions = make_predictions(X_test, W1, b1, W2, b2)\n",
        "accuracy = get_accuracy(test_predictions, Y_test)\n",
        "print(\"Accuracy: \", accuracy)"
      ],
      "metadata": {
        "colab": {
          "base_uri": "https://localhost:8080/"
        },
        "id": "mDzry9jOxLSq",
        "outputId": "db733860-7ef5-4e7b-88e6-936bc0efba31"
      },
      "execution_count": null,
      "outputs": [
        {
          "output_type": "stream",
          "name": "stdout",
          "text": [
            "[1 0 4 7 4 5 8 4 7 1 0 1 8 6 7 4 1 0 9 9 6 1 5 8 0 4 4 6 3 8 8 4 5 1 5 3 3\n",
            " 6 0 7 5 1 3 5 4 9 3 7 2 4 2 4 9 6 1 1 0 3 1 5 3 4 2 0 1 2 8 6 6 0 9 1 2 3\n",
            " 5 0 6 3 6 9 9 0 2 1 9 0 9 3 2 7 6 9 3 4 0 2 1 4 7 7 4 3 6 4 5 7 7 3 1 6 5\n",
            " 6 7 7 9 5 7 5 7 7 3 3 1 1 0 7 2 2 8 9 1 1 8 7 6 1 0 6 2 7 0 7 0 8 8 0 9 6\n",
            " 1 2 1 3 5 6 2 8 3 2 0 9 9 5 4 9 6 3 0 8 8 6 1 9 0 0 3 4 9 5 8 8 5 1 1 8 7\n",
            " 4 6 8 0 8 3 4 2 8 2 9 5 5 8 9 9 3 3 3 6 1 3 0 7 0 9 5 4 9 8 3 5 4 0 2 1 9\n",
            " 3 9 4 4 5 6 7 8 6 2 5 0 3 9 1 7 1 6 3 5 2 0 0 3 5 4 5 6 8 0 1 3 8 3 2 7 2\n",
            " 0 7 1 5 2 3 8 9 4 9 9 9 8 5 4 4 4 7 1 7 6 7 9 0 7 1 1 7 5 9 3 9 7 5 6 9 9\n",
            " 3 6 4 3 2 0 8 6 9 4 4 2 2 3 8 8 3 9 5 7 4 5 4 9 0 6 5 4 3 2 7 0 6 7 0 1 1\n",
            " 3 8 2 2 3 1 6 3 8 9 0 2 8 4 8 1 0 6 1 7 6 4 4 2 0 2 5 7 1 0 6 7 6 5 5 0 5\n",
            " 2 7 9 0 7 6 1 9 1 8 0 4 9 4 3 9 7 1 5 5 7 1 6 2 7 8 7 3 5 7 4 9 8 7 1 1 5\n",
            " 8 2 5 4 1 1 3 7 9 6 4 6 0 8 9 6 6 2 3 5 8 3 1 1 4 1 3 5 7 3 6 5 9 8 2 6 3\n",
            " 1 1 3 1 3 9 8 3 8 1 6 8 1 2 6 1 6 8 7 6 1 4 9 4 2 0 9 8 5 1 1 8 4 5 7 5 2\n",
            " 4 1 4 4 6 0 0 0 3 4 7 1 2 0 5 2 9 0 9 1 0 9 8 3 7 0 5 3 5 1 3 4 6 4 5 4 6\n",
            " 1 1 4 2 2 8 2 4 0 6 2 2 1 8 9 4 8 7 0 6 7 5 3 1 0 3 2 6 4 8 3 7 9 3 8 7 2\n",
            " 2 7 7 4 4 4 9 2 6 4 3 9 0 3 1 5 3 8 8 8 5 6 5 9 3 5 1 1 9 1 8 2 1 6 8 0 9\n",
            " 2 1 5 7 1 2 3 9 4 3 6 9 5 9 5 8 8 0 8 3 9 2 3 8 9 1 3 6 4 8 7 4 5 3 4 0 0\n",
            " 4 0 3 1 2 9 9 3 2 6 9 8 2 2 4 6 0 4 2 9 4 1 0 0 1 0 2 0 6 8 7 8 5 1 1 8 8\n",
            " 9 7 9 6 5 8 8 1 8 9 5 2 6 9 8 6 3 9 1 7 6 2 6 6 3 9 1 0 0 8 3 6 9 0 0 4 2\n",
            " 1 8 2 7 4 0 1 2 6 2 7 2 2 0 2 5 0 2 1 1 8 5 5 9 5 3 6 4 1 9 6 5 9 8 9 2 0\n",
            " 9 6 8 8 5 3 0 8 3 4 8 6 1 4 3 6 3 4 2 8 9 1 8 5 8 1 3 6 3 9 1 8 5 8 6 7 8\n",
            " 5 9 6 2 7 2 5 3 1 3 7 0 3 2 1 7 9 8 4 1 8 5 0 5 4 8 8 6 4 0 5 0 6 6 4 4 1\n",
            " 1 5 7 6 6 2 9 5 1 8 7 1 6 1 2 0 2 2 5 9 3 6 1 7 5 9 2 5 4 8 1 7 3 0 1 4 1\n",
            " 4 2 1 9 6 4 7 9 4 8 6 8 5 4 5 7 0 6 4 0 0 3 0 0 7 6 5 1 4 0 1 2 4 9 4 0 1\n",
            " 7 4 1 0 2 3 0 3 3 6 1 8 1 1 9 3 8 9 8 7 9 0 4 8 8 4 9 9 9 3 5 3 6 9 1 9 5\n",
            " 9 0 5 7 9 3 4 9 6 9 9 1 3 2 3 0 4 0 1 5 8 7 1 8 7 5 1 1 0 6 3 4 0 0 1 2 2\n",
            " 3 8 5 5 2 6 4 8 3 2 2 7 5 1 6 8 4 4 4 3 1 8 0 0 8 7 2 5 8 0 9 9 0 4 2 9 5\n",
            " 2] [1 0 4 7 4 5 8 4 7 5 0 1 8 6 7 4 7 0 9 9 6 1 5 8 0 4 4 6 3 8 8 4 5 1 5 3 3\n",
            " 6 0 7 5 1 3 8 4 9 3 7 8 4 2 4 4 6 4 1 0 3 1 6 3 4 2 0 1 2 8 2 6 0 9 1 2 3\n",
            " 5 0 6 3 6 9 9 0 2 1 5 0 9 3 2 7 6 9 3 4 0 2 1 4 7 7 4 3 6 4 5 7 7 3 1 6 5\n",
            " 6 7 7 9 5 7 5 7 9 3 3 1 1 0 7 8 5 8 9 1 1 8 7 6 1 0 6 2 7 0 9 0 8 5 0 9 6\n",
            " 1 2 1 3 5 6 2 8 3 2 0 9 9 5 4 9 6 8 0 8 8 6 1 7 0 0 3 4 9 5 8 8 5 1 1 8 7\n",
            " 4 6 8 0 8 3 4 2 8 2 9 5 5 8 9 9 3 3 3 6 1 3 0 7 0 4 0 4 9 8 3 5 4 0 2 1 9\n",
            " 5 9 4 7 5 6 7 8 6 2 5 0 3 9 1 7 1 6 3 5 2 0 0 3 5 4 5 6 8 0 1 3 8 3 2 7 2\n",
            " 0 7 1 5 2 3 8 9 4 9 7 9 8 5 4 4 4 7 1 7 6 9 9 0 7 1 1 7 5 9 3 9 7 5 6 5 9\n",
            " 3 6 4 3 2 0 8 6 4 4 4 2 2 3 8 8 3 9 5 7 4 5 4 9 0 6 5 4 5 2 7 8 6 7 0 1 1\n",
            " 3 8 2 2 3 1 6 3 8 9 0 2 8 4 8 1 0 6 1 7 6 4 4 2 0 1 3 7 1 0 6 7 6 5 5 0 5\n",
            " 2 5 4 0 9 9 1 9 1 8 0 4 9 4 3 9 7 1 5 5 7 1 6 2 7 8 7 3 5 7 4 9 8 7 1 1 5\n",
            " 8 2 5 4 1 1 3 7 9 6 8 6 8 8 9 6 6 4 3 5 8 3 1 1 4 1 3 0 9 3 6 5 9 8 2 5 3\n",
            " 3 1 5 1 3 9 8 3 8 1 6 8 1 2 6 1 6 3 7 6 1 4 9 4 2 7 9 2 5 1 1 8 4 5 7 5 2\n",
            " 4 1 4 4 6 0 6 0 3 4 7 1 2 0 5 2 9 0 9 1 0 9 3 3 7 0 5 3 0 4 3 4 6 4 8 4 6\n",
            " 1 1 4 2 2 8 7 4 0 6 5 2 1 9 9 4 8 7 0 6 7 5 3 1 0 5 2 6 4 8 3 9 9 3 8 7 2\n",
            " 8 7 7 4 4 4 9 2 2 4 3 9 0 8 1 5 2 5 8 8 5 6 5 9 3 5 1 1 9 1 8 2 8 6 8 0 4\n",
            " 2 1 5 7 1 2 3 9 4 3 6 9 5 9 5 9 8 0 8 3 9 2 3 3 9 1 5 6 4 8 7 4 5 8 2 0 0\n",
            " 4 0 3 1 2 9 9 3 2 6 9 8 2 6 4 6 0 4 5 9 4 1 0 0 1 0 2 0 6 8 7 8 5 2 1 0 8\n",
            " 9 7 9 6 5 9 8 3 8 9 5 2 6 9 8 6 3 9 1 7 5 2 6 6 3 9 1 0 8 5 3 6 9 0 0 4 2\n",
            " 1 8 2 9 4 0 1 3 8 2 9 2 2 0 2 8 0 2 1 1 8 0 5 9 5 3 6 4 1 9 6 3 9 5 9 2 0\n",
            " 9 6 9 8 5 3 0 8 3 4 7 5 1 4 3 6 5 4 2 8 9 1 8 5 8 1 3 8 3 9 1 8 5 8 6 7 8\n",
            " 3 9 6 2 7 2 3 3 1 3 7 0 3 2 1 7 9 8 4 1 8 5 0 5 4 5 8 6 2 0 5 0 6 6 9 4 1\n",
            " 1 5 7 6 6 2 9 5 1 8 7 1 6 1 2 0 2 2 8 7 3 6 1 7 5 9 2 5 4 8 1 9 3 0 1 4 1\n",
            " 4 2 1 9 6 4 7 9 4 8 6 8 8 4 5 7 0 6 4 0 0 3 0 0 7 6 5 1 4 0 1 2 4 3 2 0 1\n",
            " 7 4 1 0 2 3 0 3 3 6 1 3 1 1 4 3 8 9 3 9 9 0 6 4 8 4 9 4 9 3 5 3 8 9 1 9 5\n",
            " 9 0 3 7 9 3 4 9 6 9 7 1 5 2 3 0 4 0 1 5 8 9 1 8 7 5 1 1 0 6 3 4 0 0 1 2 2\n",
            " 3 8 5 5 2 6 4 0 3 2 2 7 5 1 6 8 4 4 4 3 1 8 0 0 3 7 2 5 8 0 9 9 0 4 2 9 5\n",
            " 2]\n",
            "Accuracy:  0.888\n"
          ]
        }
      ]
    },
    {
      "cell_type": "markdown",
      "source": [
        "---"
      ],
      "metadata": {
        "id": "9_K0f5WTLlWO"
      }
    },
    {
      "cell_type": "markdown",
      "source": [
        "## Build with PyTorch or TensorFlow:"
      ],
      "metadata": {
        "id": "eQMaOHUqTyE_"
      }
    },
    {
      "cell_type": "code",
      "source": [
        "import tensorflow as tf\n",
        "from tensorflow.keras import datasets, layers, models\n",
        "\n",
        "# import data\n",
        "mnist = tf.keras.datasets.mnist\n",
        "(training_images, training_labels), (test_images, test_labels) = mnist.load_data()\n",
        "\n",
        "# normalizing\n",
        "training_images=training_images/255.0\n",
        "test_images=test_images/255.0\n",
        "\n",
        "# create cnn model\n",
        "cnn = models.Sequential([\n",
        "    layers.Input((28, 28, 1)),\n",
        "    layers.Conv2D(filters=32, kernel_size=(3, 3), activation='relu'),\n",
        "    layers.MaxPooling2D((2, 2)),\n",
        "\n",
        "    layers.Conv2D(filters=64, kernel_size=(3, 3), activation='relu'),\n",
        "    layers.MaxPooling2D((2, 2)),\n",
        "\n",
        "    layers.Flatten(),\n",
        "    layers.Dense(64, activation='relu'),\n",
        "    layers.Dense(10, activation='softmax') # 10 classes\n",
        "])\n",
        "\n",
        "cnn.compile(optimizer='adam',\n",
        "              loss='sparse_categorical_crossentropy',\n",
        "              metrics=['accuracy'])"
      ],
      "metadata": {
        "id": "9SZ1EsgWLmCQ"
      },
      "execution_count": null,
      "outputs": []
    },
    {
      "cell_type": "code",
      "source": [
        "cnn.fit(training_images, training_labels, epochs=5)"
      ],
      "metadata": {
        "colab": {
          "base_uri": "https://localhost:8080/"
        },
        "id": "GlIx2GOROcnL",
        "outputId": "14772b5f-2ea5-47b9-9bc0-f19e4fcf13a0"
      },
      "execution_count": null,
      "outputs": [
        {
          "output_type": "stream",
          "name": "stdout",
          "text": [
            "Epoch 1/5\n",
            "\u001b[1m1875/1875\u001b[0m \u001b[32m━━━━━━━━━━━━━━━━━━━━\u001b[0m\u001b[37m\u001b[0m \u001b[1m118s\u001b[0m 31ms/step - accuracy: 0.8983 - loss: 0.3288\n",
            "Epoch 2/5\n",
            "\u001b[1m1875/1875\u001b[0m \u001b[32m━━━━━━━━━━━━━━━━━━━━\u001b[0m\u001b[37m\u001b[0m \u001b[1m76s\u001b[0m 28ms/step - accuracy: 0.9846 - loss: 0.0488\n",
            "Epoch 3/5\n",
            "\u001b[1m1875/1875\u001b[0m \u001b[32m━━━━━━━━━━━━━━━━━━━━\u001b[0m\u001b[37m\u001b[0m \u001b[1m81s\u001b[0m 28ms/step - accuracy: 0.9900 - loss: 0.0315\n",
            "Epoch 4/5\n",
            "\u001b[1m1875/1875\u001b[0m \u001b[32m━━━━━━━━━━━━━━━━━━━━\u001b[0m\u001b[37m\u001b[0m \u001b[1m84s\u001b[0m 29ms/step - accuracy: 0.9935 - loss: 0.0215\n",
            "Epoch 5/5\n",
            "\u001b[1m1875/1875\u001b[0m \u001b[32m━━━━━━━━━━━━━━━━━━━━\u001b[0m\u001b[37m\u001b[0m \u001b[1m80s\u001b[0m 28ms/step - accuracy: 0.9942 - loss: 0.0179\n"
          ]
        },
        {
          "output_type": "execute_result",
          "data": {
            "text/plain": [
              "<keras.src.callbacks.history.History at 0x7872c7f2cbe0>"
            ]
          },
          "metadata": {},
          "execution_count": 218
        }
      ]
    },
    {
      "cell_type": "code",
      "source": [
        "import matplotlib.pyplot as plt\n",
        "\n",
        "classifications = cnn.predict(test_images)\n",
        "print(classifications[0])\n",
        "print(test_labels[0])\n",
        "\n",
        "plt.imshow(test_images[0])"
      ],
      "metadata": {
        "colab": {
          "base_uri": "https://localhost:8080/",
          "height": 517
        },
        "id": "Z801jfefOnwx",
        "outputId": "4b9217e2-3702-4940-a95f-90c5e724498a"
      },
      "execution_count": null,
      "outputs": [
        {
          "output_type": "stream",
          "name": "stdout",
          "text": [
            "\u001b[1m313/313\u001b[0m \u001b[32m━━━━━━━━━━━━━━━━━━━━\u001b[0m\u001b[37m\u001b[0m \u001b[1m4s\u001b[0m 14ms/step\n",
            "[1.0314128e-11 8.8633083e-09 8.4665097e-10 1.4275136e-07 3.1069383e-12\n",
            " 2.1474893e-11 1.3932046e-17 9.9999982e-01 2.6762866e-11 3.0320795e-08]\n",
            "7\n"
          ]
        },
        {
          "output_type": "execute_result",
          "data": {
            "text/plain": [
              "<matplotlib.image.AxesImage at 0x7872c7e1a1a0>"
            ]
          },
          "metadata": {},
          "execution_count": 220
        },
        {
          "output_type": "display_data",
          "data": {
            "text/plain": [
              "<Figure size 640x480 with 1 Axes>"
            ],
            "image/png": "[encoded data removed]"
          },
          "metadata": {}
        }
      ]
    },
    {
      "cell_type": "code",
      "source": [
        "loss, accuracy = cnn.evaluate(test_images, test_labels)\n",
        "print(f\"Accuracy: {accuracy:.2f}, Loss: {loss:.2f}\")"
      ],
      "metadata": {
        "colab": {
          "base_uri": "https://localhost:8080/"
        },
        "id": "LHsiykDeOh4F",
        "outputId": "b1fce25a-1236-4256-8109-6b52e9af902a"
      },
      "execution_count": null,
      "outputs": [
        {
          "output_type": "stream",
          "name": "stdout",
          "text": [
            "\u001b[1m313/313\u001b[0m \u001b[32m━━━━━━━━━━━━━━━━━━━━\u001b[0m\u001b[37m\u001b[0m \u001b[1m3s\u001b[0m 9ms/step - accuracy: 0.9874 - loss: 0.0447\n",
            "Accuracy: 0.99, Loss: 0.03\n"
          ]
        }
      ]
    }
  ]
}